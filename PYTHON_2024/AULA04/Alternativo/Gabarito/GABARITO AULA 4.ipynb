{
 "cells": [
  {
   "cell_type": "code",
   "execution_count": 1,
   "id": "78459b98",
   "metadata": {},
   "outputs": [
    {
     "name": "stdout",
     "output_type": "stream",
     "text": [
      "Collecting python-socketio\n",
      "  Obtaining dependency information for python-socketio from https://files.pythonhosted.org/packages/5c/6d/dd2447d27979c4ca84738bb4d5a9245aa8e1f736b4054d894f7fd2030c84/python_socketio-5.11.0-py3-none-any.whl.metadata\n",
      "  Downloading python_socketio-5.11.0-py3-none-any.whl.metadata (3.2 kB)\n",
      "Collecting bidict>=0.21.0 (from python-socketio)\n",
      "  Downloading bidict-0.22.1-py3-none-any.whl (35 kB)\n",
      "Collecting python-engineio>=4.8.0 (from python-socketio)\n",
      "  Obtaining dependency information for python-engineio>=4.8.0 from https://files.pythonhosted.org/packages/4f/ca/b14136484c9a10230abbf44a89041ccd2c696d0cb425e53f48ca0de0d1e7/python_engineio-4.8.2-py3-none-any.whl.metadata\n",
      "  Downloading python_engineio-4.8.2-py3-none-any.whl.metadata (2.2 kB)\n",
      "Collecting simple-websocket>=0.10.0 (from python-engineio>=4.8.0->python-socketio)\n",
      "  Obtaining dependency information for simple-websocket>=0.10.0 from https://files.pythonhosted.org/packages/6d/ea/288a8ac1d9551354488ff60c0ac6a76acc3b6b60f0460ac1944c75e240da/simple_websocket-1.0.0-py3-none-any.whl.metadata\n",
      "  Downloading simple_websocket-1.0.0-py3-none-any.whl.metadata (1.3 kB)\n",
      "Collecting wsproto (from simple-websocket>=0.10.0->python-engineio>=4.8.0->python-socketio)\n",
      "  Downloading wsproto-1.2.0-py3-none-any.whl (24 kB)\n",
      "Collecting h11<1,>=0.9.0 (from wsproto->simple-websocket>=0.10.0->python-engineio>=4.8.0->python-socketio)\n",
      "  Downloading h11-0.14.0-py3-none-any.whl (58 kB)\n",
      "     ---------------------------------------- 0.0/58.3 kB ? eta -:--:--\n",
      "     ---------------------------------------- 58.3/58.3 kB 3.2 MB/s eta 0:00:00\n",
      "Downloading python_socketio-5.11.0-py3-none-any.whl (75 kB)\n",
      "   ---------------------------------------- 0.0/75.4 kB ? eta -:--:--\n",
      "   ---------------------------------------- 75.4/75.4 kB 4.1 MB/s eta 0:00:00\n",
      "Downloading python_engineio-4.8.2-py3-none-any.whl (57 kB)\n",
      "   ---------------------------------------- 0.0/57.4 kB ? eta -:--:--\n",
      "   ---------------------------------------- 57.4/57.4 kB 2.9 MB/s eta 0:00:00\n",
      "Downloading simple_websocket-1.0.0-py3-none-any.whl (13 kB)\n",
      "Installing collected packages: h11, bidict, wsproto, simple-websocket, python-engineio, python-socketio\n",
      "Successfully installed bidict-0.22.1 h11-0.14.0 python-engineio-4.8.2 python-socketio-5.11.0 simple-websocket-1.0.0 wsproto-1.2.0\n",
      "Note: you may need to restart the kernel to use updated packages.\n"
     ]
    }
   ],
   "source": [
    "pip install python-socketio"
   ]
  },
  {
   "cell_type": "code",
   "execution_count": 2,
   "id": "21e2c4d6",
   "metadata": {},
   "outputs": [
    {
     "name": "stdout",
     "output_type": "stream",
     "text": [
      "Collecting flask-socketio\n",
      "  Obtaining dependency information for flask-socketio from https://files.pythonhosted.org/packages/56/c8/dc0be9e26272dc89342868ecc2d9ddb9e31002b4b8e49fdb754aa0f9ecbf/Flask_SocketIO-5.3.6-py3-none-any.whl.metadata\n",
      "  Downloading Flask_SocketIO-5.3.6-py3-none-any.whl.metadata (2.6 kB)\n",
      "Requirement already satisfied: Flask>=0.9 in c:\\users\\kleber parigi\\anaconda3\\lib\\site-packages (from flask-socketio) (2.2.2)\n",
      "Requirement already satisfied: python-socketio>=5.0.2 in c:\\users\\kleber parigi\\anaconda3\\lib\\site-packages (from flask-socketio) (5.11.0)\n",
      "Requirement already satisfied: Werkzeug>=2.2.2 in c:\\users\\kleber parigi\\anaconda3\\lib\\site-packages (from Flask>=0.9->flask-socketio) (2.2.3)\n",
      "Requirement already satisfied: Jinja2>=3.0 in c:\\users\\kleber parigi\\anaconda3\\lib\\site-packages (from Flask>=0.9->flask-socketio) (3.1.2)\n",
      "Requirement already satisfied: itsdangerous>=2.0 in c:\\users\\kleber parigi\\anaconda3\\lib\\site-packages (from Flask>=0.9->flask-socketio) (2.0.1)\n",
      "Requirement already satisfied: click>=8.0 in c:\\users\\kleber parigi\\anaconda3\\lib\\site-packages (from Flask>=0.9->flask-socketio) (8.0.4)\n",
      "Requirement already satisfied: bidict>=0.21.0 in c:\\users\\kleber parigi\\anaconda3\\lib\\site-packages (from python-socketio>=5.0.2->flask-socketio) (0.22.1)\n",
      "Requirement already satisfied: python-engineio>=4.8.0 in c:\\users\\kleber parigi\\anaconda3\\lib\\site-packages (from python-socketio>=5.0.2->flask-socketio) (4.8.2)\n",
      "Requirement already satisfied: colorama in c:\\users\\kleber parigi\\anaconda3\\lib\\site-packages (from click>=8.0->Flask>=0.9->flask-socketio) (0.4.6)\n",
      "Requirement already satisfied: MarkupSafe>=2.0 in c:\\users\\kleber parigi\\anaconda3\\lib\\site-packages (from Jinja2>=3.0->Flask>=0.9->flask-socketio) (2.1.1)\n",
      "Requirement already satisfied: simple-websocket>=0.10.0 in c:\\users\\kleber parigi\\anaconda3\\lib\\site-packages (from python-engineio>=4.8.0->python-socketio>=5.0.2->flask-socketio) (1.0.0)\n",
      "Requirement already satisfied: wsproto in c:\\users\\kleber parigi\\anaconda3\\lib\\site-packages (from simple-websocket>=0.10.0->python-engineio>=4.8.0->python-socketio>=5.0.2->flask-socketio) (1.2.0)\n",
      "Requirement already satisfied: h11<1,>=0.9.0 in c:\\users\\kleber parigi\\anaconda3\\lib\\site-packages (from wsproto->simple-websocket>=0.10.0->python-engineio>=4.8.0->python-socketio>=5.0.2->flask-socketio) (0.14.0)\n",
      "Downloading Flask_SocketIO-5.3.6-py3-none-any.whl (18 kB)\n",
      "Installing collected packages: flask-socketio\n",
      "Successfully installed flask-socketio-5.3.6\n",
      "Note: you may need to restart the kernel to use updated packages.\n"
     ]
    }
   ],
   "source": [
    "pip install flask-socketio"
   ]
  },
  {
   "cell_type": "code",
   "execution_count": 3,
   "id": "4398b6f6",
   "metadata": {},
   "outputs": [
    {
     "name": "stdout",
     "output_type": "stream",
     "text": [
      "Requirement already satisfied: simple-websocket in c:\\users\\kleber parigi\\anaconda3\\lib\\site-packages (1.0.0)\n",
      "Requirement already satisfied: wsproto in c:\\users\\kleber parigi\\anaconda3\\lib\\site-packages (from simple-websocket) (1.2.0)\n",
      "Requirement already satisfied: h11<1,>=0.9.0 in c:\\users\\kleber parigi\\anaconda3\\lib\\site-packages (from wsproto->simple-websocket) (0.14.0)\n",
      "Note: you may need to restart the kernel to use updated packages.\n"
     ]
    }
   ],
   "source": [
    "pip install simple-websocket"
   ]
  },
  {
   "cell_type": "code",
   "execution_count": 4,
   "id": "3c38fa87",
   "metadata": {},
   "outputs": [
    {
     "name": "stdout",
     "output_type": "stream",
     "text": [
      "Requirement already satisfied: flask in c:\\users\\kleber parigi\\anaconda3\\lib\\site-packages (2.2.2)\n",
      "Requirement already satisfied: Werkzeug>=2.2.2 in c:\\users\\kleber parigi\\anaconda3\\lib\\site-packages (from flask) (2.2.3)\n",
      "Requirement already satisfied: Jinja2>=3.0 in c:\\users\\kleber parigi\\anaconda3\\lib\\site-packages (from flask) (3.1.2)\n",
      "Requirement already satisfied: itsdangerous>=2.0 in c:\\users\\kleber parigi\\anaconda3\\lib\\site-packages (from flask) (2.0.1)\n",
      "Requirement already satisfied: click>=8.0 in c:\\users\\kleber parigi\\anaconda3\\lib\\site-packages (from flask) (8.0.4)\n",
      "Requirement already satisfied: colorama in c:\\users\\kleber parigi\\anaconda3\\lib\\site-packages (from click>=8.0->flask) (0.4.6)\n",
      "Requirement already satisfied: MarkupSafe>=2.0 in c:\\users\\kleber parigi\\anaconda3\\lib\\site-packages (from Jinja2>=3.0->flask) (2.1.1)\n",
      "Note: you may need to restart the kernel to use updated packages.\n"
     ]
    }
   ],
   "source": [
    "pip install flask"
   ]
  },
  {
   "cell_type": "code",
   "execution_count": 5,
   "id": "ff0576bc",
   "metadata": {},
   "outputs": [],
   "source": [
    "from flask import Flask, render_template"
   ]
  },
  {
   "cell_type": "code",
   "execution_count": 6,
   "id": "e8b932a1",
   "metadata": {},
   "outputs": [],
   "source": [
    "from flask_socketio import SocketIO, send"
   ]
  },
  {
   "cell_type": "code",
   "execution_count": 7,
   "id": "41d64531",
   "metadata": {},
   "outputs": [],
   "source": [
    "app = Flask(__name__)"
   ]
  },
  {
   "cell_type": "code",
   "execution_count": 9,
   "id": "b7c6986c",
   "metadata": {},
   "outputs": [],
   "source": [
    "app.config[\"SECRET\"] = \"THEMIS\""
   ]
  },
  {
   "cell_type": "code",
   "execution_count": 10,
   "id": "4b4ffe58",
   "metadata": {},
   "outputs": [],
   "source": [
    "app.config[\"DEBUG\"] = True "
   ]
  },
  {
   "cell_type": "code",
   "execution_count": 11,
   "id": "94fa46ad",
   "metadata": {},
   "outputs": [],
   "source": [
    "socketio = SocketIO(app, cors_allowed_origins=\"*\")"
   ]
  },
  {
   "cell_type": "code",
   "execution_count": 12,
   "id": "c70c2431",
   "metadata": {},
   "outputs": [
    {
     "ename": "SyntaxError",
     "evalue": "incomplete input (1962036082.py, line 1)",
     "output_type": "error",
     "traceback": [
      "\u001b[1;36m  Cell \u001b[1;32mIn[12], line 1\u001b[1;36m\u001b[0m\n\u001b[1;33m    @socketio.on(\"message\")\u001b[0m\n\u001b[1;37m                           ^\u001b[0m\n\u001b[1;31mSyntaxError\u001b[0m\u001b[1;31m:\u001b[0m incomplete input\n"
     ]
    }
   ],
   "source": [
    "@socketio.on(\"message\")"
   ]
  },
  {
   "cell_type": "code",
   "execution_count": 13,
   "id": "c9badb11",
   "metadata": {},
   "outputs": [],
   "source": [
    "@socketio.on(\"message\") # define que a função abaixo vai ser acionada quando o evento de \"message\" acontecer\n",
    "def gerenciar_mensagens(mensagem):\n",
    "    print(f\"Mensagem: {mensagem}\")\n",
    "    send(mensagem, broadcast=True) # envia a mensagem para todo mundo conectado no site"
   ]
  },
  {
   "cell_type": "code",
   "execution_count": 14,
   "id": "0e5804a0",
   "metadata": {},
   "outputs": [],
   "source": [
    "@app.route(\"/\") # cria a página do site\n",
    "def home():\n",
    "    return render_template(\"index.html\") # essa página vai carregar esse arquivo html que está aqui"
   ]
  },
  {
   "cell_type": "code",
   "execution_count": 15,
   "id": "180a7242",
   "metadata": {},
   "outputs": [
    {
     "ename": "RuntimeError",
     "evalue": "The Werkzeug web server is not designed to run in production. Pass allow_unsafe_werkzeug=True to the run() method to disable this error.",
     "output_type": "error",
     "traceback": [
      "\u001b[1;31m---------------------------------------------------------------------------\u001b[0m",
      "\u001b[1;31mRuntimeError\u001b[0m                              Traceback (most recent call last)",
      "Cell \u001b[1;32mIn[15], line 2\u001b[0m\n\u001b[0;32m      1\u001b[0m \u001b[38;5;28;01mif\u001b[39;00m \u001b[38;5;18m__name__\u001b[39m \u001b[38;5;241m==\u001b[39m \u001b[38;5;124m\"\u001b[39m\u001b[38;5;124m__main__\u001b[39m\u001b[38;5;124m\"\u001b[39m:\n\u001b[1;32m----> 2\u001b[0m     socketio\u001b[38;5;241m.\u001b[39mrun(app, host\u001b[38;5;241m=\u001b[39m\u001b[38;5;124m'\u001b[39m\u001b[38;5;124mlocalhost\u001b[39m\u001b[38;5;124m'\u001b[39m)\n",
      "File \u001b[1;32m~\\anaconda3\\Lib\\site-packages\\flask_socketio\\__init__.py:640\u001b[0m, in \u001b[0;36mSocketIO.run\u001b[1;34m(self, app, host, port, **kwargs)\u001b[0m\n\u001b[0;32m    638\u001b[0m \u001b[38;5;28;01mif\u001b[39;00m \u001b[38;5;129;01mnot\u001b[39;00m sys\u001b[38;5;241m.\u001b[39mstdin \u001b[38;5;129;01mor\u001b[39;00m \u001b[38;5;129;01mnot\u001b[39;00m sys\u001b[38;5;241m.\u001b[39mstdin\u001b[38;5;241m.\u001b[39misatty():  \u001b[38;5;66;03m# pragma: no cover\u001b[39;00m\n\u001b[0;32m    639\u001b[0m     \u001b[38;5;28;01mif\u001b[39;00m \u001b[38;5;129;01mnot\u001b[39;00m allow_unsafe_werkzeug:\n\u001b[1;32m--> 640\u001b[0m         \u001b[38;5;28;01mraise\u001b[39;00m \u001b[38;5;167;01mRuntimeError\u001b[39;00m(\u001b[38;5;124m'\u001b[39m\u001b[38;5;124mThe Werkzeug web server is not \u001b[39m\u001b[38;5;124m'\u001b[39m\n\u001b[0;32m    641\u001b[0m                            \u001b[38;5;124m'\u001b[39m\u001b[38;5;124mdesigned to run in production. Pass \u001b[39m\u001b[38;5;124m'\u001b[39m\n\u001b[0;32m    642\u001b[0m                            \u001b[38;5;124m'\u001b[39m\u001b[38;5;124mallow_unsafe_werkzeug=True to the \u001b[39m\u001b[38;5;124m'\u001b[39m\n\u001b[0;32m    643\u001b[0m                            \u001b[38;5;124m'\u001b[39m\u001b[38;5;124mrun() method to disable this error.\u001b[39m\u001b[38;5;124m'\u001b[39m)\n\u001b[0;32m    644\u001b[0m     \u001b[38;5;28;01melse\u001b[39;00m:\n\u001b[0;32m    645\u001b[0m         \u001b[38;5;28;01mfrom\u001b[39;00m \u001b[38;5;21;01mwerkzeug\u001b[39;00m\u001b[38;5;21;01m.\u001b[39;00m\u001b[38;5;21;01m_internal\u001b[39;00m \u001b[38;5;28;01mimport\u001b[39;00m _log\n",
      "\u001b[1;31mRuntimeError\u001b[0m: The Werkzeug web server is not designed to run in production. Pass allow_unsafe_werkzeug=True to the run() method to disable this error."
     ]
    }
   ],
   "source": [
    "if __name__ == \"__main__\":\n",
    "    socketio.run(app, host='localhost') # define que o app vai rodar no seu servidor local, ou seja, na internet em que o seu computador tá conectado"
   ]
  },
  {
   "cell_type": "code",
   "execution_count": null,
   "id": "c648975c",
   "metadata": {},
   "outputs": [],
   "source": []
  }
 ],
 "metadata": {
  "kernelspec": {
   "display_name": "Python 3 (ipykernel)",
   "language": "python",
   "name": "python3"
  },
  "language_info": {
   "codemirror_mode": {
    "name": "ipython",
    "version": 3
   },
   "file_extension": ".py",
   "mimetype": "text/x-python",
   "name": "python",
   "nbconvert_exporter": "python",
   "pygments_lexer": "ipython3",
   "version": "3.11.5"
  }
 },
 "nbformat": 4,
 "nbformat_minor": 5
}
