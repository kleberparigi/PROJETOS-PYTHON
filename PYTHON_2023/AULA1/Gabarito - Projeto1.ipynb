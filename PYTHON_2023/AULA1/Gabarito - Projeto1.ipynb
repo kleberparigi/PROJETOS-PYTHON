{
 "cells": [
  {
   "cell_type": "markdown",
   "id": "a7447279",
   "metadata": {},
   "source": [
    "# Automação de Sistemas e Processos com Python\n",
    "\n",
    "### Desafio:\n",
    "\n",
    "Para controle de custos, todos os dias, seu chefe pede um relatório com todas as compras de mercadorias da empresa.\n",
    "O seu trabalho, como analista, é enviar um e-mail para ele, assim que começar a trabalhar, com o total gasto, a quantidade de produtos compradas e o preço médio dos produtos.\n",
    "\n",
    "E-mail do seu chefe: para o nosso exercício, coloque um e-mail seu como sendo o e-mail do seu chefe<br>\n",
    "Link de acesso ao sistema da empresa: https://pages.hashtagtreinamentos.com/aula1-intensivao-sistema\n",
    "\n",
    "Para resolver isso, vamos usar o pyautogui, uma biblioteca de automação de comandos do mouse e do teclado"
   ]
  },
  {
   "cell_type": "code",
   "execution_count": 59,
   "id": "8a693ff3",
   "metadata": {},
   "outputs": [],
   "source": [
    "# !pip install pyautogui"
   ]
  },
  {
   "cell_type": "code",
   "execution_count": 1,
   "id": "ca33d7af",
   "metadata": {},
   "outputs": [],
   "source": [
    "import pyautogui\n",
    "import time\n",
    "# pyautogui.click -> clique com o mouse\n",
    "# pyautogui.write -> escrever um texto\n",
    "# pyautogui.press -> apertar uma tecla\n",
    "# pyautogui.hotkey -> apertar uma combinação de teclas (ex: Ctrl + D)\n",
    "# Passo a passo\n",
    "\n",
    "pyautogui.PAUSE = 1\n",
    "\n",
    "# Passo 1: Entrar no sistema da empresa (no link)\n",
    "pyautogui.hotkey(\"ctrl\", \"t\")\n",
    "pyautogui.write(\"https://pages.hashtagtreinamentos.com/aula1-intensivao-sistema\")\n",
    "pyautogui.press(\"enter\")\n",
    "\n",
    "# pode ser que o navegador tenha que carregar\n",
    "time.sleep(5)\n",
    "\n",
    "# Passo 2: Fazer login\n",
    "# clicar no espaço de login\n",
    "pyautogui.click(x=973, y=426)\n",
    "# escrever o login\n",
    "pyautogui.write(\"meu_login\")\n",
    "\n",
    "# senha\n",
    "pyautogui.click(x=935, y=521)\n",
    "pyautogui.write(\"minha_senha\")\n",
    "\n",
    "# clicar em acessar\n",
    "pyautogui.click(x=971, y=601)\n",
    "time.sleep(3)\n",
    "\n",
    "# Passo 3: Exportar a base de dados\n",
    "pyautogui.click(x=510, y=330) # clica no arquivo de compras\n",
    "pyautogui.click(x=1661, y=198) # clica nos 3 pontinhos\n",
    "pyautogui.click(x=1485, y=623) # faz o download\n",
    "time.sleep(3)"
   ]
  },
  {
   "cell_type": "code",
   "execution_count": 61,
   "id": "c86db1ef",
   "metadata": {},
   "outputs": [],
   "source": [
    "# time.sleep(5)\n",
    "# print(pyautogui.position())"
   ]
  },
  {
   "cell_type": "code",
   "execution_count": null,
   "id": "b40693b7",
   "metadata": {},
   "outputs": [],
   "source": []
  },
  {
   "cell_type": "code",
   "execution_count": null,
   "metadata": {},
   "outputs": [],
   "source": []
  },
  {
   "cell_type": "markdown",
   "id": "b1783ee8",
   "metadata": {},
   "source": [
    "# Passo 4: Calcular os indicadores\n",
    "import pandas as pd\n",
    "\n",
    "tabela = pd.read_csv(r\"C:\\Users\\joaol\\Downloads\\Compras.csv\", sep=\";\")\n",
    "display(tabela)\n",
    "total_gasto = tabela[\"ValorFinal\"].sum()\n",
    "quantidade = tabela[\"Quantidade\"].sum()\n",
    "preco_medio = total_gasto / quantidade\n",
    "print(total_gasto)\n",
    "print(quantidade)\n",
    "print(preco_medio)"
   ]
  },
  {
   "cell_type": "code",
   "execution_count": 63,
   "id": "96fa20ef",
   "metadata": {},
   "outputs": [],
   "source": [
    "import pyperclip\n",
    "# passo 5: Enviar um e-mail para o meu chefe\n",
    "\n",
    "# entrar no email: https://mail.google.com/mail/u/0/#inboxMEU_LOGIN\n",
    "pyautogui.hotkey(\"ctrl\", \"t\")\n",
    "pyautogui.write(\"https://mail.google.com/mail/u/0/#inbox\")\n",
    "pyautogui.press(\"enter\")\n",
    "\n",
    "time.sleep(5)\n",
    "\n",
    "# clicar no botão escrever\n",
    "pyautogui.click(x=135, y=240)\n",
    "\n",
    "# preencher as informações do email\n",
    "# destinatário\n",
    "pyautogui.write(\"pythonimpressionador@gmail.com\")\n",
    "pyautogui.press(\"tab\") # escolher o destinatario\n",
    "\n",
    "pyautogui.press(\"tab\") # passar para o campo assunto\n",
    "pyperclip.copy(\"Relatório de Vendas\")\n",
    "pyautogui.hotkey(\"ctrl\", \"v\")\n",
    "\n",
    "pyautogui.press(\"tab\") # passando para o corpo do email\n",
    "\n",
    "texto = f\"\"\"\n",
    "Prezados,\n",
    "Segue o relatório de compras\n",
    "\n",
    "Total Gasto: R${total_gasto:,.2f}\n",
    "Quantidade de Produtos: {quantidade:,}\n",
    "Preço Médio: R${preco_medio:,.2f}\n",
    "\n",
    "Qualquer dúvida, é só falar.\n",
    "Att., Lira Python\n",
    "\"\"\"\n",
    "\n",
    "pyperclip.copy(texto)\n",
    "pyautogui.hotkey(\"ctrl\", \"v\")\n",
    "\n",
    "\n",
    "# enviar\n",
    "pyautogui.hotkey(\"ctrl\", \"enter\")"
   ]
  },
  {
   "cell_type": "code",
   "execution_count": null,
   "id": "39cc0304",
   "metadata": {},
   "outputs": [],
   "source": []
  }
 ],
 "metadata": {
  "kernelspec": {
   "display_name": "Python 3 (ipykernel)",
   "language": "python",
   "name": "python3"
  },
  "language_info": {
   "codemirror_mode": {
    "name": "ipython",
    "version": 3
   },
   "file_extension": ".py",
   "mimetype": "text/x-python",
   "name": "python",
   "nbconvert_exporter": "python",
   "pygments_lexer": "ipython3",
   "version": "3.12.1"
  }
 },
 "nbformat": 4,
 "nbformat_minor": 5
}
